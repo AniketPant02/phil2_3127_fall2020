{
 "cells": [
  {
   "cell_type": "markdown",
   "metadata": {},
   "source": [
    "# Analysis Sandbox - NYT\n",
    "\n",
    "1. Sentiment Analysis\n",
    "2. Topic Modeling\n",
    "3. Word Count Studies and Metadata\n",
    "\n",
    "Model Chomsky Table 2-1.\n",
    "\n",
    "*Aniket Pant, PHIL 3127*"
   ]
  },
  {
   "cell_type": "code",
   "execution_count": 141,
   "metadata": {},
   "outputs": [],
   "source": [
    "import pandas as pd\n",
    "import re\n",
    "import missingno as msno\n",
    "import matplotlib.pyplot as plt\n",
    "import seaborn as sns\n",
    "from sklearn import preprocessing\n",
    "sns.set_theme(style=\"whitegrid\")\n",
    "%matplotlib inline"
   ]
  },
  {
   "cell_type": "markdown",
   "metadata": {},
   "source": [
    "# Load Data"
   ]
  },
  {
   "cell_type": "code",
   "execution_count": 74,
   "metadata": {},
   "outputs": [],
   "source": [
    "skripal_df = pd.read_csv(\"./skripal_export.csv\")\n",
    "iranian_df = pd.read_csv(\"./scientist_assassination.csv\")"
   ]
  },
  {
   "cell_type": "code",
   "execution_count": 75,
   "metadata": {},
   "outputs": [
    {
     "data": {
      "text/html": [
       "<div>\n",
       "<style scoped>\n",
       "    .dataframe tbody tr th:only-of-type {\n",
       "        vertical-align: middle;\n",
       "    }\n",
       "\n",
       "    .dataframe tbody tr th {\n",
       "        vertical-align: top;\n",
       "    }\n",
       "\n",
       "    .dataframe thead th {\n",
       "        text-align: right;\n",
       "    }\n",
       "</style>\n",
       "<table border=\"1\" class=\"dataframe\">\n",
       "  <thead>\n",
       "    <tr style=\"text-align: right;\">\n",
       "      <th></th>\n",
       "      <th>Subject</th>\n",
       "      <th>Business indexing term</th>\n",
       "      <th>Location</th>\n",
       "      <th>People</th>\n",
       "      <th>URL</th>\n",
       "      <th>Title</th>\n",
       "      <th>Author</th>\n",
       "      <th>Publication title</th>\n",
       "      <th>Pages</th>\n",
       "      <th>Publication year</th>\n",
       "      <th>...</th>\n",
       "      <th>Unnamed: 265</th>\n",
       "      <th>Unnamed: 266</th>\n",
       "      <th>Unnamed: 267</th>\n",
       "      <th>Unnamed: 268</th>\n",
       "      <th>Unnamed: 269</th>\n",
       "      <th>Unnamed: 270</th>\n",
       "      <th>Unnamed: 271</th>\n",
       "      <th>Unnamed: 272</th>\n",
       "      <th>Unnamed: 273</th>\n",
       "      <th>Unnamed: 274</th>\n",
       "    </tr>\n",
       "  </thead>\n",
       "  <tbody>\n",
       "    <tr>\n",
       "      <th>0</th>\n",
       "      <td>Infectious diseases;Enrollments;Social distanc...</td>\n",
       "      <td>Unemployment benefits</td>\n",
       "      <td>United States--US; United Kingdom--UK; Minnesota</td>\n",
       "      <td>Elizabeth II, Queen of Great Britain</td>\n",
       "      <td>https://www.nytimes.com/2020/10/15/nyregion/15...</td>\n",
       "      <td>Coronavirus Update: [Foreign Desk]</td>\n",
       "      <td>Barron, James</td>\n",
       "      <td>New York Times, Late Edition (East Coast); New...</td>\n",
       "      <td>A.4</td>\n",
       "      <td>2020</td>\n",
       "      <td>...</td>\n",
       "      <td>NaN</td>\n",
       "      <td>NaN</td>\n",
       "      <td>NaN</td>\n",
       "      <td>NaN</td>\n",
       "      <td>NaN</td>\n",
       "      <td>NaN</td>\n",
       "      <td>NaN</td>\n",
       "      <td>NaN</td>\n",
       "      <td>NaN</td>\n",
       "      <td>NaN</td>\n",
       "    </tr>\n",
       "    <tr>\n",
       "      <th>1</th>\n",
       "      <td>Poisoning;Conventions;Biological &amp; chemical we...</td>\n",
       "      <td>NaN</td>\n",
       "      <td>Russia; Germany; United Kingdom--UK</td>\n",
       "      <td>Navalny, Alexei</td>\n",
       "      <td>https://www.nytimes.com/2020/10/06/world/europ...</td>\n",
       "      <td>Putin's Leading Rival Was Poisoned, Affirm Wor...</td>\n",
       "      <td>Schwirtz, Michael</td>\n",
       "      <td>New York Times, Late Edition (East Coast); New...</td>\n",
       "      <td>A.15</td>\n",
       "      <td>2020</td>\n",
       "      <td>...</td>\n",
       "      <td>NaN</td>\n",
       "      <td>NaN</td>\n",
       "      <td>NaN</td>\n",
       "      <td>NaN</td>\n",
       "      <td>NaN</td>\n",
       "      <td>NaN</td>\n",
       "      <td>NaN</td>\n",
       "      <td>NaN</td>\n",
       "      <td>NaN</td>\n",
       "      <td>NaN</td>\n",
       "    </tr>\n",
       "    <tr>\n",
       "      <th>2</th>\n",
       "      <td>Public health;Poisoning;Documentary films;Mili...</td>\n",
       "      <td>NaN</td>\n",
       "      <td>Russia; United Kingdom--UK</td>\n",
       "      <td>Skripal, Sergei V; Sturgess, Dawn</td>\n",
       "      <td>https://www.nytimes.com/2020/10/01/arts/televi...</td>\n",
       "      <td>Picking Up the Pieces After the Poisonings: [T...</td>\n",
       "      <td>Schwirtz, Michael</td>\n",
       "      <td>New York Times, Late Edition (East Coast); New...</td>\n",
       "      <td>C.3</td>\n",
       "      <td>2020</td>\n",
       "      <td>...</td>\n",
       "      <td>NaN</td>\n",
       "      <td>NaN</td>\n",
       "      <td>NaN</td>\n",
       "      <td>NaN</td>\n",
       "      <td>NaN</td>\n",
       "      <td>NaN</td>\n",
       "      <td>NaN</td>\n",
       "      <td>NaN</td>\n",
       "      <td>NaN</td>\n",
       "      <td>NaN</td>\n",
       "    </tr>\n",
       "    <tr>\n",
       "      <th>3</th>\n",
       "      <td>Social networks;Poisoning;Coma;Biological &amp; ch...</td>\n",
       "      <td>NaN</td>\n",
       "      <td>Russia; France; Germany</td>\n",
       "      <td>Navalny, Alexei</td>\n",
       "      <td>https://www.nytimes.com/2020/09/23/world/europ...</td>\n",
       "      <td>Putin Critic Leaves Hospital After Poisoning: ...</td>\n",
       "      <td>Eddy, Melissa</td>\n",
       "      <td>New York Times, Late Edition (East Coast); New...</td>\n",
       "      <td>A.10</td>\n",
       "      <td>2020</td>\n",
       "      <td>...</td>\n",
       "      <td>NaN</td>\n",
       "      <td>NaN</td>\n",
       "      <td>NaN</td>\n",
       "      <td>NaN</td>\n",
       "      <td>NaN</td>\n",
       "      <td>NaN</td>\n",
       "      <td>NaN</td>\n",
       "      <td>NaN</td>\n",
       "      <td>NaN</td>\n",
       "      <td>NaN</td>\n",
       "    </tr>\n",
       "    <tr>\n",
       "      <th>4</th>\n",
       "      <td>Poisoning;Biological &amp; chemical weapons;Murder...</td>\n",
       "      <td>Sanctions;International relations</td>\n",
       "      <td>Russia</td>\n",
       "      <td>Navalny, Alexei; Putin, Vladimir</td>\n",
       "      <td>https://www.nytimes.com/2020/09/22/opinion/vla...</td>\n",
       "      <td>What Can Mr. Putin Get Away With?: [Editorial]</td>\n",
       "      <td>NaN</td>\n",
       "      <td>New York Times, Late Edition (East Coast); New...</td>\n",
       "      <td>A.26</td>\n",
       "      <td>2020</td>\n",
       "      <td>...</td>\n",
       "      <td>NaN</td>\n",
       "      <td>NaN</td>\n",
       "      <td>NaN</td>\n",
       "      <td>NaN</td>\n",
       "      <td>NaN</td>\n",
       "      <td>NaN</td>\n",
       "      <td>NaN</td>\n",
       "      <td>NaN</td>\n",
       "      <td>NaN</td>\n",
       "      <td>NaN</td>\n",
       "    </tr>\n",
       "  </tbody>\n",
       "</table>\n",
       "<p>5 rows × 275 columns</p>\n",
       "</div>"
      ],
      "text/plain": [
       "                                             Subject  \\\n",
       "0  Infectious diseases;Enrollments;Social distanc...   \n",
       "1  Poisoning;Conventions;Biological & chemical we...   \n",
       "2  Public health;Poisoning;Documentary films;Mili...   \n",
       "3  Social networks;Poisoning;Coma;Biological & ch...   \n",
       "4  Poisoning;Biological & chemical weapons;Murder...   \n",
       "\n",
       "              Business indexing term  \\\n",
       "0              Unemployment benefits   \n",
       "1                                NaN   \n",
       "2                                NaN   \n",
       "3                                NaN   \n",
       "4  Sanctions;International relations   \n",
       "\n",
       "                                           Location  \\\n",
       "0  United States--US; United Kingdom--UK; Minnesota   \n",
       "1               Russia; Germany; United Kingdom--UK   \n",
       "2                        Russia; United Kingdom--UK   \n",
       "3                           Russia; France; Germany   \n",
       "4                                            Russia   \n",
       "\n",
       "                                 People  \\\n",
       "0  Elizabeth II, Queen of Great Britain   \n",
       "1                       Navalny, Alexei   \n",
       "2     Skripal, Sergei V; Sturgess, Dawn   \n",
       "3                       Navalny, Alexei   \n",
       "4      Navalny, Alexei; Putin, Vladimir   \n",
       "\n",
       "                                                 URL  \\\n",
       "0  https://www.nytimes.com/2020/10/15/nyregion/15...   \n",
       "1  https://www.nytimes.com/2020/10/06/world/europ...   \n",
       "2  https://www.nytimes.com/2020/10/01/arts/televi...   \n",
       "3  https://www.nytimes.com/2020/09/23/world/europ...   \n",
       "4  https://www.nytimes.com/2020/09/22/opinion/vla...   \n",
       "\n",
       "                                               Title             Author  \\\n",
       "0                 Coronavirus Update: [Foreign Desk]      Barron, James   \n",
       "1  Putin's Leading Rival Was Poisoned, Affirm Wor...  Schwirtz, Michael   \n",
       "2  Picking Up the Pieces After the Poisonings: [T...  Schwirtz, Michael   \n",
       "3  Putin Critic Leaves Hospital After Poisoning: ...      Eddy, Melissa   \n",
       "4     What Can Mr. Putin Get Away With?: [Editorial]                NaN   \n",
       "\n",
       "                                   Publication title Pages Publication year  \\\n",
       "0  New York Times, Late Edition (East Coast); New...   A.4             2020   \n",
       "1  New York Times, Late Edition (East Coast); New...  A.15             2020   \n",
       "2  New York Times, Late Edition (East Coast); New...   C.3             2020   \n",
       "3  New York Times, Late Edition (East Coast); New...  A.10             2020   \n",
       "4  New York Times, Late Edition (East Coast); New...  A.26             2020   \n",
       "\n",
       "   ... Unnamed: 265 Unnamed: 266 Unnamed: 267 Unnamed: 268 Unnamed: 269  \\\n",
       "0  ...          NaN          NaN          NaN          NaN          NaN   \n",
       "1  ...          NaN          NaN          NaN          NaN          NaN   \n",
       "2  ...          NaN          NaN          NaN          NaN          NaN   \n",
       "3  ...          NaN          NaN          NaN          NaN          NaN   \n",
       "4  ...          NaN          NaN          NaN          NaN          NaN   \n",
       "\n",
       "  Unnamed: 270 Unnamed: 271 Unnamed: 272 Unnamed: 273 Unnamed: 274  \n",
       "0          NaN          NaN          NaN          NaN          NaN  \n",
       "1          NaN          NaN          NaN          NaN          NaN  \n",
       "2          NaN          NaN          NaN          NaN          NaN  \n",
       "3          NaN          NaN          NaN          NaN          NaN  \n",
       "4          NaN          NaN          NaN          NaN          NaN  \n",
       "\n",
       "[5 rows x 275 columns]"
      ]
     },
     "execution_count": 75,
     "metadata": {},
     "output_type": "execute_result"
    }
   ],
   "source": [
    "skripal_df.head()"
   ]
  },
  {
   "cell_type": "code",
   "execution_count": 76,
   "metadata": {},
   "outputs": [
    {
     "data": {
      "text/html": [
       "<div>\n",
       "<style scoped>\n",
       "    .dataframe tbody tr th:only-of-type {\n",
       "        vertical-align: middle;\n",
       "    }\n",
       "\n",
       "    .dataframe tbody tr th {\n",
       "        vertical-align: top;\n",
       "    }\n",
       "\n",
       "    .dataframe thead th {\n",
       "        text-align: right;\n",
       "    }\n",
       "</style>\n",
       "<table border=\"1\" class=\"dataframe\">\n",
       "  <thead>\n",
       "    <tr style=\"text-align: right;\">\n",
       "      <th></th>\n",
       "      <th>Subject</th>\n",
       "      <th>Location</th>\n",
       "      <th>People</th>\n",
       "      <th>Title</th>\n",
       "      <th>Author</th>\n",
       "      <th>Publication title</th>\n",
       "      <th>Pages</th>\n",
       "      <th>Publication year</th>\n",
       "      <th>Publication date</th>\n",
       "      <th>column</th>\n",
       "      <th>...</th>\n",
       "      <th>Document type</th>\n",
       "      <th>ProQuest document ID</th>\n",
       "      <th>Document URL</th>\n",
       "      <th>Copyright</th>\n",
       "      <th>Last updated</th>\n",
       "      <th>Database</th>\n",
       "      <th>fullText</th>\n",
       "      <th>Company / organization</th>\n",
       "      <th>Dateline</th>\n",
       "      <th>Dataset</th>\n",
       "    </tr>\n",
       "  </thead>\n",
       "  <tbody>\n",
       "    <tr>\n",
       "      <th>0</th>\n",
       "      <td>Diplomacy;Foreign policy;International relatio...</td>\n",
       "      <td>Israel; Iran; United States--US</td>\n",
       "      <td>Bush, George W; Kerry, John F; Obama, Barack</td>\n",
       "      <td>Diplomacy and Sanctions, Yes. Left Unspoken on...</td>\n",
       "      <td>Sanger, David E</td>\n",
       "      <td>New York Times, Late Edition (East Coast); New...</td>\n",
       "      <td>A.8</td>\n",
       "      <td>2016.0</td>\n",
       "      <td>20-Jan-16</td>\n",
       "      <td>News Analysis</td>\n",
       "      <td>...</td>\n",
       "      <td>Commentary</td>\n",
       "      <td>1.758057e+09</td>\n",
       "      <td>https://go.openathens.net/redirector/gatech.ed...</td>\n",
       "      <td>Copyright New York Times Company Jan 20, 2016</td>\n",
       "      <td>11/22/2017</td>\n",
       "      <td>3 databasesView listGlobal NewsstreamProQuest ...</td>\n",
       "      <td>WASHINGTON -- President Obama and Secretary of...</td>\n",
       "      <td>NaN</td>\n",
       "      <td>NaN</td>\n",
       "      <td>Scientist Assassination</td>\n",
       "    </tr>\n",
       "    <tr>\n",
       "      <th>1</th>\n",
       "      <td>Espionage;Assassinations &amp; assassination attem...</td>\n",
       "      <td>Israel; Iran</td>\n",
       "      <td>Melman, Yossi; Raviv, Dan</td>\n",
       "      <td>Tehran Abuzz As Book Says Israel Killed 5 Scie...</td>\n",
       "      <td>Afkhami, Artin</td>\n",
       "      <td>New York Times, Late Edition (East Coast); New...</td>\n",
       "      <td>A.8</td>\n",
       "      <td>2012.0</td>\n",
       "      <td>12-Jul-12</td>\n",
       "      <td>NaN</td>\n",
       "      <td>...</td>\n",
       "      <td>News</td>\n",
       "      <td>1.024462e+09</td>\n",
       "      <td>https://go.openathens.net/redirector/gatech.ed...</td>\n",
       "      <td>Copyright New York Times Company Jul 12, 2012</td>\n",
       "      <td>11/19/2017</td>\n",
       "      <td>3 databasesView listGlobal NewsstreamProQuest ...</td>\n",
       "      <td>The latest literary sensation in Tehran is a t...</td>\n",
       "      <td>CBS Broadcasting Inc</td>\n",
       "      <td>NaN</td>\n",
       "      <td>Scientist Assassination</td>\n",
       "    </tr>\n",
       "    <tr>\n",
       "      <th>2</th>\n",
       "      <td>Nuclear weapons;Sanctions;International relati...</td>\n",
       "      <td>United States--US; Israel; Iran</td>\n",
       "      <td>Dempsey, Martin E</td>\n",
       "      <td>U.S. General Visits Israel For Discussions on ...</td>\n",
       "      <td>Bronner, Ethan</td>\n",
       "      <td>New York Times, Late Edition (East Coast); New...</td>\n",
       "      <td>A.6</td>\n",
       "      <td>2012.0</td>\n",
       "      <td>20-Jan-12</td>\n",
       "      <td>NaN</td>\n",
       "      <td>...</td>\n",
       "      <td>News</td>\n",
       "      <td>9.168194e+08</td>\n",
       "      <td>https://go.openathens.net/redirector/gatech.ed...</td>\n",
       "      <td>Copyright New York Times Company Jan 20, 2012</td>\n",
       "      <td>11/18/2017</td>\n",
       "      <td>3 databasesView listGlobal NewsstreamProQuest ...</td>\n",
       "      <td>JERUSALEM -- Gen. Martin E. Dempsey, chairman ...</td>\n",
       "      <td>Joint Chiefs of Staff</td>\n",
       "      <td>NaN</td>\n",
       "      <td>Scientist Assassination</td>\n",
       "    </tr>\n",
       "    <tr>\n",
       "      <th>3</th>\n",
       "      <td>Military exercises;Missile defense;Internation...</td>\n",
       "      <td>United States--US; Israel; Iran</td>\n",
       "      <td>NaN</td>\n",
       "      <td>Military Drill With the U.S. Is Postponed, Isr...</td>\n",
       "      <td>Kershner, Isabel</td>\n",
       "      <td>New York Times, Late Edition (East Coast); New...</td>\n",
       "      <td>A.9</td>\n",
       "      <td>2012.0</td>\n",
       "      <td>17-Jan-12</td>\n",
       "      <td>NaN</td>\n",
       "      <td>...</td>\n",
       "      <td>NEWSPAPER</td>\n",
       "      <td>9.162812e+08</td>\n",
       "      <td>https://go.openathens.net/redirector/gatech.ed...</td>\n",
       "      <td>Copyright New York Times Company Jan 17, 2012</td>\n",
       "      <td>11/18/2017</td>\n",
       "      <td>3 databasesView listGlobal NewsstreamProQuest ...</td>\n",
       "      <td>NaN</td>\n",
       "      <td>NaN</td>\n",
       "      <td>NaN</td>\n",
       "      <td>Scientist Assassination</td>\n",
       "    </tr>\n",
       "    <tr>\n",
       "      <th>4</th>\n",
       "      <td>Assassinations &amp; assassination attempts;Scient...</td>\n",
       "      <td>United States--US; Iran</td>\n",
       "      <td>NaN</td>\n",
       "      <td>Iran Signals Revenge Over Killing Of Scientist...</td>\n",
       "      <td>Gladstone, Rick</td>\n",
       "      <td>New York Times, Late Edition (East Coast); New...</td>\n",
       "      <td>A.10</td>\n",
       "      <td>2012.0</td>\n",
       "      <td>13-Jan-12</td>\n",
       "      <td>NaN</td>\n",
       "      <td>...</td>\n",
       "      <td>News</td>\n",
       "      <td>9.156441e+08</td>\n",
       "      <td>https://go.openathens.net/redirector/gatech.ed...</td>\n",
       "      <td>Copyright New York Times Company Jan 13, 2012</td>\n",
       "      <td>11/18/2017</td>\n",
       "      <td>3 databasesView listGlobal NewsstreamProQuest ...</td>\n",
       "      <td>Error encountered in scraping fullText.</td>\n",
       "      <td>NaN</td>\n",
       "      <td>NaN</td>\n",
       "      <td>Scientist Assassination</td>\n",
       "    </tr>\n",
       "  </tbody>\n",
       "</table>\n",
       "<p>5 rows × 29 columns</p>\n",
       "</div>"
      ],
      "text/plain": [
       "                                             Subject  \\\n",
       "0  Diplomacy;Foreign policy;International relatio...   \n",
       "1  Espionage;Assassinations & assassination attem...   \n",
       "2  Nuclear weapons;Sanctions;International relati...   \n",
       "3  Military exercises;Missile defense;Internation...   \n",
       "4  Assassinations & assassination attempts;Scient...   \n",
       "\n",
       "                          Location  \\\n",
       "0  Israel; Iran; United States--US   \n",
       "1                     Israel; Iran   \n",
       "2  United States--US; Israel; Iran   \n",
       "3  United States--US; Israel; Iran   \n",
       "4          United States--US; Iran   \n",
       "\n",
       "                                         People  \\\n",
       "0  Bush, George W; Kerry, John F; Obama, Barack   \n",
       "1                     Melman, Yossi; Raviv, Dan   \n",
       "2                             Dempsey, Martin E   \n",
       "3                                           NaN   \n",
       "4                                           NaN   \n",
       "\n",
       "                                               Title            Author  \\\n",
       "0  Diplomacy and Sanctions, Yes. Left Unspoken on...   Sanger, David E   \n",
       "1  Tehran Abuzz As Book Says Israel Killed 5 Scie...    Afkhami, Artin   \n",
       "2  U.S. General Visits Israel For Discussions on ...    Bronner, Ethan   \n",
       "3  Military Drill With the U.S. Is Postponed, Isr...  Kershner, Isabel   \n",
       "4  Iran Signals Revenge Over Killing Of Scientist...   Gladstone, Rick   \n",
       "\n",
       "                                   Publication title Pages  Publication year  \\\n",
       "0  New York Times, Late Edition (East Coast); New...   A.8            2016.0   \n",
       "1  New York Times, Late Edition (East Coast); New...   A.8            2012.0   \n",
       "2  New York Times, Late Edition (East Coast); New...   A.6            2012.0   \n",
       "3  New York Times, Late Edition (East Coast); New...   A.9            2012.0   \n",
       "4  New York Times, Late Edition (East Coast); New...  A.10            2012.0   \n",
       "\n",
       "  Publication date         column  ... Document type ProQuest document ID  \\\n",
       "0        20-Jan-16  News Analysis  ...    Commentary         1.758057e+09   \n",
       "1        12-Jul-12            NaN  ...          News         1.024462e+09   \n",
       "2        20-Jan-12            NaN  ...          News         9.168194e+08   \n",
       "3        17-Jan-12            NaN  ...     NEWSPAPER         9.162812e+08   \n",
       "4        13-Jan-12            NaN  ...          News         9.156441e+08   \n",
       "\n",
       "                                        Document URL  \\\n",
       "0  https://go.openathens.net/redirector/gatech.ed...   \n",
       "1  https://go.openathens.net/redirector/gatech.ed...   \n",
       "2  https://go.openathens.net/redirector/gatech.ed...   \n",
       "3  https://go.openathens.net/redirector/gatech.ed...   \n",
       "4  https://go.openathens.net/redirector/gatech.ed...   \n",
       "\n",
       "                                       Copyright Last updated  \\\n",
       "0  Copyright New York Times Company Jan 20, 2016   11/22/2017   \n",
       "1  Copyright New York Times Company Jul 12, 2012   11/19/2017   \n",
       "2  Copyright New York Times Company Jan 20, 2012   11/18/2017   \n",
       "3  Copyright New York Times Company Jan 17, 2012   11/18/2017   \n",
       "4  Copyright New York Times Company Jan 13, 2012   11/18/2017   \n",
       "\n",
       "                                            Database  \\\n",
       "0  3 databasesView listGlobal NewsstreamProQuest ...   \n",
       "1  3 databasesView listGlobal NewsstreamProQuest ...   \n",
       "2  3 databasesView listGlobal NewsstreamProQuest ...   \n",
       "3  3 databasesView listGlobal NewsstreamProQuest ...   \n",
       "4  3 databasesView listGlobal NewsstreamProQuest ...   \n",
       "\n",
       "                                            fullText  Company / organization  \\\n",
       "0  WASHINGTON -- President Obama and Secretary of...                     NaN   \n",
       "1  The latest literary sensation in Tehran is a t...   CBS Broadcasting Inc    \n",
       "2  JERUSALEM -- Gen. Martin E. Dempsey, chairman ...  Joint Chiefs of Staff    \n",
       "3                                                NaN                     NaN   \n",
       "4            Error encountered in scraping fullText.                     NaN   \n",
       "\n",
       "  Dateline                  Dataset  \n",
       "0      NaN  Scientist Assassination  \n",
       "1      NaN  Scientist Assassination  \n",
       "2      NaN  Scientist Assassination  \n",
       "3      NaN  Scientist Assassination  \n",
       "4      NaN  Scientist Assassination  \n",
       "\n",
       "[5 rows x 29 columns]"
      ]
     },
     "execution_count": 76,
     "metadata": {},
     "output_type": "execute_result"
    }
   ],
   "source": [
    "iranian_df.head()"
   ]
  },
  {
   "cell_type": "code",
   "execution_count": 77,
   "metadata": {},
   "outputs": [],
   "source": [
    "df = pd.concat([skripal_df, iranian_df])"
   ]
  },
  {
   "cell_type": "code",
   "execution_count": 78,
   "metadata": {},
   "outputs": [
    {
     "data": {
      "text/html": [
       "<div>\n",
       "<style scoped>\n",
       "    .dataframe tbody tr th:only-of-type {\n",
       "        vertical-align: middle;\n",
       "    }\n",
       "\n",
       "    .dataframe tbody tr th {\n",
       "        vertical-align: top;\n",
       "    }\n",
       "\n",
       "    .dataframe thead th {\n",
       "        text-align: right;\n",
       "    }\n",
       "</style>\n",
       "<table border=\"1\" class=\"dataframe\">\n",
       "  <thead>\n",
       "    <tr style=\"text-align: right;\">\n",
       "      <th></th>\n",
       "      <th>Subject</th>\n",
       "      <th>Business indexing term</th>\n",
       "      <th>Location</th>\n",
       "      <th>People</th>\n",
       "      <th>URL</th>\n",
       "      <th>Title</th>\n",
       "      <th>Author</th>\n",
       "      <th>Publication title</th>\n",
       "      <th>Pages</th>\n",
       "      <th>Publication year</th>\n",
       "      <th>...</th>\n",
       "      <th>Unnamed: 265</th>\n",
       "      <th>Unnamed: 266</th>\n",
       "      <th>Unnamed: 267</th>\n",
       "      <th>Unnamed: 268</th>\n",
       "      <th>Unnamed: 269</th>\n",
       "      <th>Unnamed: 270</th>\n",
       "      <th>Unnamed: 271</th>\n",
       "      <th>Unnamed: 272</th>\n",
       "      <th>Unnamed: 273</th>\n",
       "      <th>Unnamed: 274</th>\n",
       "    </tr>\n",
       "  </thead>\n",
       "  <tbody>\n",
       "    <tr>\n",
       "      <th>14</th>\n",
       "      <td>NaN</td>\n",
       "      <td>NaN</td>\n",
       "      <td>Iran</td>\n",
       "      <td>NaN</td>\n",
       "      <td>NaN</td>\n",
       "      <td>Iran: Arrests in Attacks on Nuclear Scientists...</td>\n",
       "      <td>Worth, Robert F</td>\n",
       "      <td>New York Times, Late Edition (East Coast); New...</td>\n",
       "      <td>A.8</td>\n",
       "      <td>2010</td>\n",
       "      <td>...</td>\n",
       "      <td>NaN</td>\n",
       "      <td>NaN</td>\n",
       "      <td>NaN</td>\n",
       "      <td>NaN</td>\n",
       "      <td>NaN</td>\n",
       "      <td>NaN</td>\n",
       "      <td>NaN</td>\n",
       "      <td>NaN</td>\n",
       "      <td>NaN</td>\n",
       "      <td>NaN</td>\n",
       "    </tr>\n",
       "    <tr>\n",
       "      <th>15</th>\n",
       "      <td>Meetings;International relations</td>\n",
       "      <td>NaN</td>\n",
       "      <td>Iran</td>\n",
       "      <td>Ahmadinejad, Mahmoud; Jalili, Saeed</td>\n",
       "      <td>NaN</td>\n",
       "      <td>WORLD BRIEFING MIDDLE EAST; Iran: Date Set for...</td>\n",
       "      <td>WILLIAM YONG and J. DAVID GOODMAN</td>\n",
       "      <td>New York Times, Late Edition (East Coast); New...</td>\n",
       "      <td>A.8</td>\n",
       "      <td>2010</td>\n",
       "      <td>...</td>\n",
       "      <td>NaN</td>\n",
       "      <td>NaN</td>\n",
       "      <td>NaN</td>\n",
       "      <td>NaN</td>\n",
       "      <td>NaN</td>\n",
       "      <td>NaN</td>\n",
       "      <td>NaN</td>\n",
       "      <td>NaN</td>\n",
       "      <td>NaN</td>\n",
       "      <td>NaN</td>\n",
       "    </tr>\n",
       "    <tr>\n",
       "      <th>16</th>\n",
       "      <td>Nuclear weapons;Sanctions;Assassinations &amp; ass...</td>\n",
       "      <td>NaN</td>\n",
       "      <td>United States--US; Israel; Iran</td>\n",
       "      <td>Ahmadinejad, Mahmoud</td>\n",
       "      <td>NaN</td>\n",
       "      <td>Bombings Hit Atomic Experts In Iran Streets: [...</td>\n",
       "      <td>WILLIAM YONG and ROBERT F. WORTH</td>\n",
       "      <td>New York Times, Late Edition (East Coast); New...</td>\n",
       "      <td>A.1</td>\n",
       "      <td>2010</td>\n",
       "      <td>...</td>\n",
       "      <td>NaN</td>\n",
       "      <td>NaN</td>\n",
       "      <td>NaN</td>\n",
       "      <td>NaN</td>\n",
       "      <td>NaN</td>\n",
       "      <td>NaN</td>\n",
       "      <td>NaN</td>\n",
       "      <td>NaN</td>\n",
       "      <td>NaN</td>\n",
       "      <td>NaN</td>\n",
       "    </tr>\n",
       "    <tr>\n",
       "      <th>17</th>\n",
       "      <td>Demonstrations &amp; protests;Capital punishment;P...</td>\n",
       "      <td>NaN</td>\n",
       "      <td>United States--US; Teheran Iran; Iran</td>\n",
       "      <td>NaN</td>\n",
       "      <td>NaN</td>\n",
       "      <td>Motorcycle Bomb Kills Iranian Physics Professo...</td>\n",
       "      <td>Cowell, Alan</td>\n",
       "      <td>New York Times, Late Edition (East Coast); New...</td>\n",
       "      <td>A.12</td>\n",
       "      <td>2010</td>\n",
       "      <td>...</td>\n",
       "      <td>NaN</td>\n",
       "      <td>NaN</td>\n",
       "      <td>NaN</td>\n",
       "      <td>NaN</td>\n",
       "      <td>NaN</td>\n",
       "      <td>NaN</td>\n",
       "      <td>NaN</td>\n",
       "      <td>NaN</td>\n",
       "      <td>NaN</td>\n",
       "      <td>NaN</td>\n",
       "    </tr>\n",
       "    <tr>\n",
       "      <th>18</th>\n",
       "      <td>Covert operations;Nuclear weapons;Military air...</td>\n",
       "      <td>NaN</td>\n",
       "      <td>Iran; United States--US; Israel</td>\n",
       "      <td>Bush, George W</td>\n",
       "      <td>NaN</td>\n",
       "      <td>U.S. Rejected Aid For Israeli Raid On Nuclear ...</td>\n",
       "      <td>Sanger, David E</td>\n",
       "      <td>New York Times, Late Edition (East Coast); New...</td>\n",
       "      <td>A.1</td>\n",
       "      <td>2009</td>\n",
       "      <td>...</td>\n",
       "      <td>NaN</td>\n",
       "      <td>NaN</td>\n",
       "      <td>NaN</td>\n",
       "      <td>NaN</td>\n",
       "      <td>NaN</td>\n",
       "      <td>NaN</td>\n",
       "      <td>NaN</td>\n",
       "      <td>NaN</td>\n",
       "      <td>NaN</td>\n",
       "      <td>NaN</td>\n",
       "    </tr>\n",
       "  </tbody>\n",
       "</table>\n",
       "<p>5 rows × 275 columns</p>\n",
       "</div>"
      ],
      "text/plain": [
       "                                              Subject Business indexing term  \\\n",
       "14                                                NaN                    NaN   \n",
       "15                   Meetings;International relations                    NaN   \n",
       "16  Nuclear weapons;Sanctions;Assassinations & ass...                    NaN   \n",
       "17  Demonstrations & protests;Capital punishment;P...                    NaN   \n",
       "18  Covert operations;Nuclear weapons;Military air...                    NaN   \n",
       "\n",
       "                                 Location  \\\n",
       "14                                   Iran   \n",
       "15                                   Iran   \n",
       "16        United States--US; Israel; Iran   \n",
       "17  United States--US; Teheran Iran; Iran   \n",
       "18        Iran; United States--US; Israel   \n",
       "\n",
       "                                 People  URL  \\\n",
       "14                                  NaN  NaN   \n",
       "15  Ahmadinejad, Mahmoud; Jalili, Saeed  NaN   \n",
       "16                 Ahmadinejad, Mahmoud  NaN   \n",
       "17                                  NaN  NaN   \n",
       "18                       Bush, George W  NaN   \n",
       "\n",
       "                                                Title  \\\n",
       "14  Iran: Arrests in Attacks on Nuclear Scientists...   \n",
       "15  WORLD BRIEFING MIDDLE EAST; Iran: Date Set for...   \n",
       "16  Bombings Hit Atomic Experts In Iran Streets: [...   \n",
       "17  Motorcycle Bomb Kills Iranian Physics Professo...   \n",
       "18  U.S. Rejected Aid For Israeli Raid On Nuclear ...   \n",
       "\n",
       "                               Author  \\\n",
       "14                    Worth, Robert F   \n",
       "15  WILLIAM YONG and J. DAVID GOODMAN   \n",
       "16   WILLIAM YONG and ROBERT F. WORTH   \n",
       "17                       Cowell, Alan   \n",
       "18                    Sanger, David E   \n",
       "\n",
       "                                    Publication title Pages Publication year  \\\n",
       "14  New York Times, Late Edition (East Coast); New...   A.8             2010   \n",
       "15  New York Times, Late Edition (East Coast); New...   A.8             2010   \n",
       "16  New York Times, Late Edition (East Coast); New...   A.1             2010   \n",
       "17  New York Times, Late Edition (East Coast); New...  A.12             2010   \n",
       "18  New York Times, Late Edition (East Coast); New...   A.1             2009   \n",
       "\n",
       "    ... Unnamed: 265 Unnamed: 266 Unnamed: 267 Unnamed: 268 Unnamed: 269  \\\n",
       "14  ...          NaN          NaN          NaN          NaN          NaN   \n",
       "15  ...          NaN          NaN          NaN          NaN          NaN   \n",
       "16  ...          NaN          NaN          NaN          NaN          NaN   \n",
       "17  ...          NaN          NaN          NaN          NaN          NaN   \n",
       "18  ...          NaN          NaN          NaN          NaN          NaN   \n",
       "\n",
       "   Unnamed: 270 Unnamed: 271 Unnamed: 272 Unnamed: 273 Unnamed: 274  \n",
       "14          NaN          NaN          NaN          NaN          NaN  \n",
       "15          NaN          NaN          NaN          NaN          NaN  \n",
       "16          NaN          NaN          NaN          NaN          NaN  \n",
       "17          NaN          NaN          NaN          NaN          NaN  \n",
       "18          NaN          NaN          NaN          NaN          NaN  \n",
       "\n",
       "[5 rows x 275 columns]"
      ]
     },
     "execution_count": 78,
     "metadata": {},
     "output_type": "execute_result"
    }
   ],
   "source": [
    "df.tail()"
   ]
  },
  {
   "cell_type": "code",
   "execution_count": 79,
   "metadata": {},
   "outputs": [
    {
     "data": {
      "text/plain": [
       "Index(['Subject', 'Business indexing term', 'Location', 'People', 'URL',\n",
       "       'Title', 'Author', 'Publication title', 'Pages', 'Publication year',\n",
       "       'Publication date', 'Section', 'Publisher', 'Place of publication',\n",
       "       'Country of publication', 'Publication subject', 'ISSN', 'Source type',\n",
       "       'Language of publication', 'Document type', 'ProQuest document ID',\n",
       "       'Document URL', 'Copyright', 'Last updated', 'Database', 'fullText',\n",
       "       'Company / organization', 'column', 'Identifier / keyword', 'Dateline',\n",
       "       'CODEN', 'Company', 'Number of pages', 'Dataset'],\n",
       "      dtype='object')"
      ]
     },
     "execution_count": 79,
     "metadata": {},
     "output_type": "execute_result"
    }
   ],
   "source": [
    "df.columns[0:34]"
   ]
  },
  {
   "cell_type": "code",
   "execution_count": 80,
   "metadata": {},
   "outputs": [
    {
     "data": {
      "text/plain": [
       "<AxesSubplot:>"
      ]
     },
     "execution_count": 80,
     "metadata": {},
     "output_type": "execute_result"
    },
    {
     "data": {
      "image/png": "[encoded data removed]",
      "text/plain": [
       "<Figure size 1800x720 with 2 Axes>"
      ]
     },
     "metadata": {
      "needs_background": "light"
     },
     "output_type": "display_data"
    }
   ],
   "source": [
    "df = df.dropna(axis=1, how='all')\n",
    "msno.matrix(df)"
   ]
  },
  {
   "cell_type": "code",
   "execution_count": 81,
   "metadata": {},
   "outputs": [],
   "source": [
    "df = df[['fullText', 'Dataset']]\n",
    "df = df.dropna()"
   ]
  },
  {
   "cell_type": "code",
   "execution_count": 82,
   "metadata": {},
   "outputs": [],
   "source": [
    "df = df[df.fullText != \"Error encountered in scraping fullText.\"]"
   ]
  },
  {
   "cell_type": "code",
   "execution_count": 83,
   "metadata": {},
   "outputs": [
    {
     "data": {
      "text/html": [
       "<div>\n",
       "<style scoped>\n",
       "    .dataframe tbody tr th:only-of-type {\n",
       "        vertical-align: middle;\n",
       "    }\n",
       "\n",
       "    .dataframe tbody tr th {\n",
       "        vertical-align: top;\n",
       "    }\n",
       "\n",
       "    .dataframe thead th {\n",
       "        text-align: right;\n",
       "    }\n",
       "</style>\n",
       "<table border=\"1\" class=\"dataframe\">\n",
       "  <thead>\n",
       "    <tr style=\"text-align: right;\">\n",
       "      <th></th>\n",
       "      <th>fullText</th>\n",
       "      <th>Dataset</th>\n",
       "    </tr>\n",
       "  </thead>\n",
       "  <tbody>\n",
       "    <tr>\n",
       "      <th>1</th>\n",
       "      <td>The Organization for the Prohibition of Chemic...</td>\n",
       "      <td>Skripal</td>\n",
       "    </tr>\n",
       "    <tr>\n",
       "      <th>2</th>\n",
       "      <td>A new AMC show dramatizes the 2018 poisoning o...</td>\n",
       "      <td>Skripal</td>\n",
       "    </tr>\n",
       "    <tr>\n",
       "      <th>3</th>\n",
       "      <td>Doctors treating Aleksei Navalny said he had b...</td>\n",
       "      <td>Skripal</td>\n",
       "    </tr>\n",
       "    <tr>\n",
       "      <th>4</th>\n",
       "      <td>Why has the poisoning of Alexei Navalny been m...</td>\n",
       "      <td>Skripal</td>\n",
       "    </tr>\n",
       "    <tr>\n",
       "      <th>5</th>\n",
       "      <td>The opposition leader jokes that he has recove...</td>\n",
       "      <td>Skripal</td>\n",
       "    </tr>\n",
       "  </tbody>\n",
       "</table>\n",
       "</div>"
      ],
      "text/plain": [
       "                                            fullText  Dataset\n",
       "1  The Organization for the Prohibition of Chemic...  Skripal\n",
       "2  A new AMC show dramatizes the 2018 poisoning o...  Skripal\n",
       "3  Doctors treating Aleksei Navalny said he had b...  Skripal\n",
       "4  Why has the poisoning of Alexei Navalny been m...  Skripal\n",
       "5  The opposition leader jokes that he has recove...  Skripal"
      ]
     },
     "execution_count": 83,
     "metadata": {},
     "output_type": "execute_result"
    }
   ],
   "source": [
    "df.head()"
   ]
  },
  {
   "cell_type": "code",
   "execution_count": 84,
   "metadata": {},
   "outputs": [
    {
     "name": "stdout",
     "output_type": "stream",
     "text": [
      "<class 'pandas.core.frame.DataFrame'>\n",
      "Int64Index: 146 entries, 1 to 18\n",
      "Data columns (total 2 columns):\n",
      " #   Column    Non-Null Count  Dtype \n",
      "---  ------    --------------  ----- \n",
      " 0   fullText  146 non-null    object\n",
      " 1   Dataset   146 non-null    object\n",
      "dtypes: object(2)\n",
      "memory usage: 3.4+ KB\n"
     ]
    }
   ],
   "source": [
    "df.info()"
   ]
  },
  {
   "cell_type": "markdown",
   "metadata": {},
   "source": [
    "# Word Count"
   ]
  },
  {
   "cell_type": "code",
   "execution_count": 85,
   "metadata": {},
   "outputs": [],
   "source": [
    "p = r'\\w+'\n",
    "df['wordCount'] = df['fullText'].apply(lambda x: len(re.findall(p, x)))"
   ]
  },
  {
   "cell_type": "code",
   "execution_count": 86,
   "metadata": {},
   "outputs": [
    {
     "data": {
      "text/html": [
       "<div>\n",
       "<style scoped>\n",
       "    .dataframe tbody tr th:only-of-type {\n",
       "        vertical-align: middle;\n",
       "    }\n",
       "\n",
       "    .dataframe tbody tr th {\n",
       "        vertical-align: top;\n",
       "    }\n",
       "\n",
       "    .dataframe thead th {\n",
       "        text-align: right;\n",
       "    }\n",
       "</style>\n",
       "<table border=\"1\" class=\"dataframe\">\n",
       "  <thead>\n",
       "    <tr style=\"text-align: right;\">\n",
       "      <th></th>\n",
       "      <th>fullText</th>\n",
       "      <th>Dataset</th>\n",
       "      <th>wordCount</th>\n",
       "    </tr>\n",
       "  </thead>\n",
       "  <tbody>\n",
       "    <tr>\n",
       "      <th>1</th>\n",
       "      <td>The Organization for the Prohibition of Chemic...</td>\n",
       "      <td>Skripal</td>\n",
       "      <td>1189</td>\n",
       "    </tr>\n",
       "    <tr>\n",
       "      <th>2</th>\n",
       "      <td>A new AMC show dramatizes the 2018 poisoning o...</td>\n",
       "      <td>Skripal</td>\n",
       "      <td>1230</td>\n",
       "    </tr>\n",
       "    <tr>\n",
       "      <th>3</th>\n",
       "      <td>Doctors treating Aleksei Navalny said he had b...</td>\n",
       "      <td>Skripal</td>\n",
       "      <td>851</td>\n",
       "    </tr>\n",
       "    <tr>\n",
       "      <th>4</th>\n",
       "      <td>Why has the poisoning of Alexei Navalny been m...</td>\n",
       "      <td>Skripal</td>\n",
       "      <td>866</td>\n",
       "    </tr>\n",
       "    <tr>\n",
       "      <th>5</th>\n",
       "      <td>The opposition leader jokes that he has recove...</td>\n",
       "      <td>Skripal</td>\n",
       "      <td>740</td>\n",
       "    </tr>\n",
       "  </tbody>\n",
       "</table>\n",
       "</div>"
      ],
      "text/plain": [
       "                                            fullText  Dataset  wordCount\n",
       "1  The Organization for the Prohibition of Chemic...  Skripal       1189\n",
       "2  A new AMC show dramatizes the 2018 poisoning o...  Skripal       1230\n",
       "3  Doctors treating Aleksei Navalny said he had b...  Skripal        851\n",
       "4  Why has the poisoning of Alexei Navalny been m...  Skripal        866\n",
       "5  The opposition leader jokes that he has recove...  Skripal        740"
      ]
     },
     "execution_count": 86,
     "metadata": {},
     "output_type": "execute_result"
    }
   ],
   "source": [
    "df.head()"
   ]
  },
  {
   "cell_type": "code",
   "execution_count": 87,
   "metadata": {},
   "outputs": [
    {
     "data": {
      "text/plain": [
       "<bound method DataFrame.isnull of                                              fullText  \\\n",
       "1   The Organization for the Prohibition of Chemic...   \n",
       "2   A new AMC show dramatizes the 2018 poisoning o...   \n",
       "3   Doctors treating Aleksei Navalny said he had b...   \n",
       "4   Why has the poisoning of Alexei Navalny been m...   \n",
       "5   The opposition leader jokes that he has recove...   \n",
       "..                                                ...   \n",
       "13  Israel's minister of strategic affairs said We...   \n",
       "15  TEHRAN -- Iran and the European Union agreed T...   \n",
       "16  TEHRAN -- Unidentified assailants riding motor...   \n",
       "17  A remote-controlled bomb attached to a motorcy...   \n",
       "18  President Bush deflected a secret request by I...   \n",
       "\n",
       "                    Dataset  wordCount  \n",
       "1                   Skripal       1189  \n",
       "2                   Skripal       1230  \n",
       "3                   Skripal        851  \n",
       "4                   Skripal        866  \n",
       "5                   Skripal        740  \n",
       "..                      ...        ...  \n",
       "13  Scientist Assassination        120  \n",
       "15  Scientist Assassination        460  \n",
       "16  Scientist Assassination       1032  \n",
       "17  Scientist Assassination        926  \n",
       "18  Scientist Assassination       2571  \n",
       "\n",
       "[146 rows x 3 columns]>"
      ]
     },
     "execution_count": 87,
     "metadata": {},
     "output_type": "execute_result"
    }
   ],
   "source": [
    "df.isnull"
   ]
  },
  {
   "cell_type": "code",
   "execution_count": 88,
   "metadata": {},
   "outputs": [
    {
     "data": {
      "text/plain": [
       "<seaborn.axisgrid.FacetGrid at 0x7f50b4d08850>"
      ]
     },
     "execution_count": 88,
     "metadata": {},
     "output_type": "execute_result"
    },
    {
     "data": {
      "image/png": "[encoded data removed]",
      "text/plain": [
       "<Figure size 432x216 with 2 Axes>"
      ]
     },
     "metadata": {
      "needs_background": "light"
     },
     "output_type": "display_data"
    }
   ],
   "source": [
    "sns.displot(\n",
    "    df, x=\"wordCount\", col=\"Dataset\",\n",
    "    binwidth=3, height=3, facet_kws=dict(margin_titles=True),\n",
    ")"
   ]
  },
  {
   "cell_type": "code",
   "execution_count": 90,
   "metadata": {},
   "outputs": [
    {
     "data": {
      "text/plain": [
       "<AxesSubplot:xlabel='Dataset', ylabel='wordCount'>"
      ]
     },
     "execution_count": 90,
     "metadata": {},
     "output_type": "execute_result"
    },
    {
     "data": {
      "image/png": "[encoded data removed]",
      "text/plain": [
       "<Figure size 432x288 with 1 Axes>"
      ]
     },
     "metadata": {
      "needs_background": "light"
     },
     "output_type": "display_data"
    }
   ],
   "source": [
    "sns.boxplot(x=\"Dataset\", y=\"wordCount\", palette=[\"m\", \"g\"],\n",
    "            data=df)"
   ]
  },
  {
   "cell_type": "code",
   "execution_count": 104,
   "metadata": {},
   "outputs": [
    {
     "data": {
      "text/plain": [
       "Text(0, 0.5, 'Word Count')"
      ]
     },
     "execution_count": 104,
     "metadata": {},
     "output_type": "execute_result"
    },
    {
     "data": {
      "image/png": "[encoded data removed]",
      "text/plain": [
       "<Figure size 432x288 with 1 Axes>"
      ]
     },
     "metadata": {
      "needs_background": "light"
     },
     "output_type": "display_data"
    }
   ],
   "source": [
    "sns.barplot(x=['Russia', 'Israel'], y=[df[df['Dataset'] == \"Skripal\"]['wordCount'].mean(), df[df['Dataset'] == \"Scientist Assassination\"]['wordCount'].mean()], palette=\"deep\")\n",
    "plt.axhline(800, color=\"k\", clip_on=False)\n",
    "plt.ylim(800,1400)\n",
    "plt.ylabel(\"Word Count\")"
   ]
  },
  {
   "cell_type": "code",
   "execution_count": 105,
   "metadata": {},
   "outputs": [
    {
     "data": {
      "text/plain": [
       "Skripal                    130\n",
       "Scientist Assassination     16\n",
       "Name: Dataset, dtype: int64"
      ]
     },
     "execution_count": 105,
     "metadata": {},
     "output_type": "execute_result"
    }
   ],
   "source": [
    "df['Dataset'].value_counts()"
   ]
  },
  {
   "cell_type": "markdown",
   "metadata": {},
   "source": [
    "# Sentiment Analysis\n",
    "\n",
    "Hypothesis: Sentiment will be the same for Russian and Israel portrayal groups."
   ]
  },
  {
   "cell_type": "code",
   "execution_count": 121,
   "metadata": {},
   "outputs": [],
   "source": [
    "from vaderSentiment.vaderSentiment import SentimentIntensityAnalyzer\n",
    "analyser = SentimentIntensityAnalyzer()"
   ]
  },
  {
   "cell_type": "code",
   "execution_count": 127,
   "metadata": {},
   "outputs": [],
   "source": [
    "def sentiment_analyzer_scores(sentence):\n",
    "    score = analyser.polarity_scores(sentence)\n",
    "    return score"
   ]
  },
  {
   "cell_type": "code",
   "execution_count": 129,
   "metadata": {},
   "outputs": [],
   "source": [
    "df['negSentiment'] = df['fullText'].apply(lambda x: sentiment_analyzer_scores(x)['neg'])\n",
    "df['posSentiment'] = df['fullText'].apply(lambda x: sentiment_analyzer_scores(x)['pos'])"
   ]
  },
  {
   "cell_type": "code",
   "execution_count": 130,
   "metadata": {},
   "outputs": [
    {
     "data": {
      "text/html": [
       "<div>\n",
       "<style scoped>\n",
       "    .dataframe tbody tr th:only-of-type {\n",
       "        vertical-align: middle;\n",
       "    }\n",
       "\n",
       "    .dataframe tbody tr th {\n",
       "        vertical-align: top;\n",
       "    }\n",
       "\n",
       "    .dataframe thead th {\n",
       "        text-align: right;\n",
       "    }\n",
       "</style>\n",
       "<table border=\"1\" class=\"dataframe\">\n",
       "  <thead>\n",
       "    <tr style=\"text-align: right;\">\n",
       "      <th></th>\n",
       "      <th>fullText</th>\n",
       "      <th>Dataset</th>\n",
       "      <th>wordCount</th>\n",
       "      <th>negSentiment</th>\n",
       "      <th>posSentiment</th>\n",
       "    </tr>\n",
       "  </thead>\n",
       "  <tbody>\n",
       "    <tr>\n",
       "      <th>1</th>\n",
       "      <td>The Organization for the Prohibition of Chemic...</td>\n",
       "      <td>Skripal</td>\n",
       "      <td>1189</td>\n",
       "      <td>0.174</td>\n",
       "      <td>0.062</td>\n",
       "    </tr>\n",
       "    <tr>\n",
       "      <th>2</th>\n",
       "      <td>A new AMC show dramatizes the 2018 poisoning o...</td>\n",
       "      <td>Skripal</td>\n",
       "      <td>1230</td>\n",
       "      <td>0.136</td>\n",
       "      <td>0.051</td>\n",
       "    </tr>\n",
       "    <tr>\n",
       "      <th>3</th>\n",
       "      <td>Doctors treating Aleksei Navalny said he had b...</td>\n",
       "      <td>Skripal</td>\n",
       "      <td>851</td>\n",
       "      <td>0.099</td>\n",
       "      <td>0.042</td>\n",
       "    </tr>\n",
       "    <tr>\n",
       "      <th>4</th>\n",
       "      <td>Why has the poisoning of Alexei Navalny been m...</td>\n",
       "      <td>Skripal</td>\n",
       "      <td>866</td>\n",
       "      <td>0.165</td>\n",
       "      <td>0.061</td>\n",
       "    </tr>\n",
       "    <tr>\n",
       "      <th>5</th>\n",
       "      <td>The opposition leader jokes that he has recove...</td>\n",
       "      <td>Skripal</td>\n",
       "      <td>740</td>\n",
       "      <td>0.081</td>\n",
       "      <td>0.047</td>\n",
       "    </tr>\n",
       "  </tbody>\n",
       "</table>\n",
       "</div>"
      ],
      "text/plain": [
       "                                            fullText  Dataset  wordCount  \\\n",
       "1  The Organization for the Prohibition of Chemic...  Skripal       1189   \n",
       "2  A new AMC show dramatizes the 2018 poisoning o...  Skripal       1230   \n",
       "3  Doctors treating Aleksei Navalny said he had b...  Skripal        851   \n",
       "4  Why has the poisoning of Alexei Navalny been m...  Skripal        866   \n",
       "5  The opposition leader jokes that he has recove...  Skripal        740   \n",
       "\n",
       "   negSentiment  posSentiment  \n",
       "1         0.174         0.062  \n",
       "2         0.136         0.051  \n",
       "3         0.099         0.042  \n",
       "4         0.165         0.061  \n",
       "5         0.081         0.047  "
      ]
     },
     "execution_count": 130,
     "metadata": {},
     "output_type": "execute_result"
    }
   ],
   "source": [
    "df.head()"
   ]
  },
  {
   "cell_type": "code",
   "execution_count": 147,
   "metadata": {},
   "outputs": [],
   "source": [
    "# normalize\n",
    "min_max_scaler = preprocessing.MinMaxScaler()\n",
    "df['negSentimentScaled'] = df['negSentiment'].apply(lambda x: x/df['negSentiment'].max())\n",
    "df['posSentimentScaled'] = df['posSentiment'].apply(lambda x: x/df['posSentiment'].max())"
   ]
  },
  {
   "cell_type": "code",
   "execution_count": 148,
   "metadata": {},
   "outputs": [
    {
     "data": {
      "text/plain": [
       "<seaborn.axisgrid.FacetGrid at 0x7f506d97ed00>"
      ]
     },
     "execution_count": 148,
     "metadata": {},
     "output_type": "execute_result"
    },
    {
     "data": {
      "image/png": "[encoded data removed]",
      "text/plain": [
       "<Figure size 598.225x432 with 1 Axes>"
      ]
     },
     "metadata": {
      "needs_background": "light"
     },
     "output_type": "display_data"
    }
   ],
   "source": [
    "# Plot miles per gallon against horsepower with other semantics\n",
    "sns.relplot(x=\"posSentimentScaled\", y=\"negSentimentScaled\", hue=\"Dataset\", size=\"wordCount\",\n",
    "            sizes=(40, 400), alpha=.5, palette=\"muted\",\n",
    "            height=6, data=df)"
   ]
  },
  {
   "cell_type": "code",
   "execution_count": null,
   "metadata": {},
   "outputs": [],
   "source": []
  }
 ],
 "metadata": {
  "kernelspec": {
   "display_name": "Python 3",
   "language": "python",
   "name": "python3"
  },
  "language_info": {
   "codemirror_mode": {
    "name": "ipython",
    "version": 3
   },
   "file_extension": ".py",
   "mimetype": "text/x-python",
   "name": "python",
   "nbconvert_exporter": "python",
   "pygments_lexer": "ipython3",
   "version": "3.8.6"
  }
 },
 "nbformat": 4,
 "nbformat_minor": 4
}
